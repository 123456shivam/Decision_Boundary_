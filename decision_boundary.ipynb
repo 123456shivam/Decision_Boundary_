{
  "nbformat": 4,
  "nbformat_minor": 0,
  "metadata": {
    "colab": {
      "provenance": [],
      "toc_visible": true,
      "authorship_tag": "ABX9TyMs7f0zqQd45VhWmIsmi9gC",
      "include_colab_link": true
    },
    "kernelspec": {
      "name": "python3",
      "display_name": "Python 3"
    },
    "language_info": {
      "name": "python"
    }
  },
  "cells": [
    {
      "cell_type": "markdown",
      "metadata": {
        "id": "view-in-github",
        "colab_type": "text"
      },
      "source": [
        "<a href=\"https://colab.research.google.com/github/123456shivam/Decision_Boundary_/blob/main/decision_boundary.ipynb\" target=\"_parent\"><img src=\"https://colab.research.google.com/assets/colab-badge.svg\" alt=\"Open In Colab\"/></a>"
      ]
    },
    {
      "cell_type": "code",
      "execution_count": 1,
      "metadata": {
        "id": "xmgpvTENkS2J"
      },
      "outputs": [],
      "source": [
        "import numpy as np\n",
        "import pandas as pd\n",
        "import matplotlib.pyplot as plt\n",
        "from sklearn.model_selection import train_test_split\n",
        "from sklearn.svm import SVC"
      ]
    },
    {
      "cell_type": "code",
      "source": [
        "from sklearn.datasets import make_circles\n",
        "X, y = make_circles(100, factor=.1, noise=.1)\n",
        "\n",
        "plt.scatter(X[:, 0], X[:, 1], c=y,s=50, cmap='bwr')"
      ],
      "metadata": {
        "colab": {
          "base_uri": "https://localhost:8080/",
          "height": 447
        },
        "id": "Nc3EmXprrmR5",
        "outputId": "34a8f5cd-4c4f-490c-8132-a0ffea37fa41"
      },
      "execution_count": 2,
      "outputs": [
        {
          "output_type": "execute_result",
          "data": {
            "text/plain": [
              "<matplotlib.collections.PathCollection at 0x7b8fa8db9c60>"
            ]
          },
          "metadata": {},
          "execution_count": 2
        },
        {
          "output_type": "display_data",
          "data": {
            "text/plain": [
              "<Figure size 640x480 with 1 Axes>"
            ],
            "image/png": "[encoded data removed]"
          },
          "metadata": {}
        }
      ]
    },
    {
      "cell_type": "code",
      "source": [
        "X_train, X_test, y_train, y_test = train_test_split(X, y, test_size = 0.20,random_state = 0)"
      ],
      "metadata": {
        "id": "zCevuRM4vI4e"
      },
      "execution_count": 3,
      "outputs": []
    },
    {
      "cell_type": "code",
      "source": [
        "y_train"
      ],
      "metadata": {
        "id": "MO6XpCZDw_xm",
        "colab": {
          "base_uri": "https://localhost:8080/"
        },
        "outputId": "45ae8dfe-a0ff-4710-d5d8-20c9ef0c7f6e"
      },
      "execution_count": 4,
      "outputs": [
        {
          "output_type": "execute_result",
          "data": {
            "text/plain": [
              "array([1, 0, 0, 0, 0, 1, 1, 1, 1, 1, 1, 0, 0, 1, 1, 1, 1, 1, 1, 0, 0, 1,\n",
              "       1, 1, 0, 0, 0, 0, 1, 1, 1, 0, 0, 1, 0, 1, 1, 0, 0, 0, 0, 0, 1, 0,\n",
              "       0, 0, 0, 0, 0, 0, 1, 1, 1, 0, 1, 0, 0, 0, 1, 1, 0, 0, 0, 1, 1, 1,\n",
              "       0, 1, 0, 0, 1, 1, 1, 0, 1, 0, 0, 0, 0, 0])"
            ]
          },
          "metadata": {},
          "execution_count": 4
        }
      ]
    },
    {
      "cell_type": "code",
      "source": [
        "y_train.ravel()"
      ],
      "metadata": {
        "id": "6K8vXPJ8xFUh",
        "colab": {
          "base_uri": "https://localhost:8080/"
        },
        "outputId": "d8c0ec4b-1d85-4cd2-8b39-6e1a3c4ff688"
      },
      "execution_count": 5,
      "outputs": [
        {
          "output_type": "execute_result",
          "data": {
            "text/plain": [
              "array([1, 0, 0, 0, 0, 1, 1, 1, 1, 1, 1, 0, 0, 1, 1, 1, 1, 1, 1, 0, 0, 1,\n",
              "       1, 1, 0, 0, 0, 0, 1, 1, 1, 0, 0, 1, 0, 1, 1, 0, 0, 0, 0, 0, 1, 0,\n",
              "       0, 0, 0, 0, 0, 0, 1, 1, 1, 0, 1, 0, 0, 0, 1, 1, 0, 0, 0, 1, 1, 1,\n",
              "       0, 1, 0, 0, 1, 1, 1, 0, 1, 0, 0, 0, 0, 0])"
            ]
          },
          "metadata": {},
          "execution_count": 5
        }
      ]
    },
    {
      "cell_type": "code",
      "source": [
        "X_train"
      ],
      "metadata": {
        "id": "2GHo2_dmyVzR",
        "colab": {
          "base_uri": "https://localhost:8080/"
        },
        "outputId": "fe97dcd6-0e9d-4fe0-eb71-3b4aea769adb"
      },
      "execution_count": 6,
      "outputs": [
        {
          "output_type": "execute_result",
          "data": {
            "text/plain": [
              "array([[-0.00233256,  0.01731879],\n",
              "       [-1.11076484,  0.03601274],\n",
              "       [ 0.86359971,  0.2541198 ],\n",
              "       [ 0.18584452, -1.05036954],\n",
              "       [-0.3881337 , -0.97949582],\n",
              "       [-0.09185963,  0.09222533],\n",
              "       [ 0.04922565, -0.14722815],\n",
              "       [ 0.15556091,  0.07585083],\n",
              "       [-0.16028011,  0.13408122],\n",
              "       [-0.21818644, -0.30988106],\n",
              "       [-0.14806982, -0.00250957],\n",
              "       [ 0.76826314, -0.56299225],\n",
              "       [-0.60623464, -0.76353742],\n",
              "       [ 0.03055935, -0.0386951 ],\n",
              "       [-0.07481147, -0.06490152],\n",
              "       [-0.03358361,  0.16982704],\n",
              "       [-0.18683471, -0.05686208],\n",
              "       [-0.01376956,  0.04411626],\n",
              "       [-0.00307899,  0.07904353],\n",
              "       [ 0.62571637, -0.80216606],\n",
              "       [ 0.85319088, -0.58405815],\n",
              "       [ 0.02561022, -0.0239522 ],\n",
              "       [ 0.12011594,  0.10616335],\n",
              "       [ 0.09624367, -0.09792631],\n",
              "       [ 0.39588008,  0.99731675],\n",
              "       [-0.85665297, -0.30225405],\n",
              "       [ 0.76023584,  0.45949445],\n",
              "       [ 0.21223701,  0.96914978],\n",
              "       [-0.01811231, -0.09564707],\n",
              "       [ 0.03991395,  0.03541059],\n",
              "       [ 0.00492576, -0.07862071],\n",
              "       [ 0.93150962, -0.30080251],\n",
              "       [ 0.53572186,  0.67904634],\n",
              "       [-0.15408306,  0.02403824],\n",
              "       [-0.66558512, -0.66490187],\n",
              "       [ 0.07905685, -0.02277477],\n",
              "       [-0.13048897, -0.01000565],\n",
              "       [-0.36638691, -0.9443016 ],\n",
              "       [-0.87899741, -0.40942318],\n",
              "       [-0.78946067,  0.5483597 ],\n",
              "       [-0.98984733,  0.19390452],\n",
              "       [-0.28061278, -1.10576187],\n",
              "       [-0.15177555,  0.06323576],\n",
              "       [-0.15508188,  1.05434065],\n",
              "       [-0.10714403,  0.99171152],\n",
              "       [ 0.4686977 , -0.94842398],\n",
              "       [ 0.78771721, -0.00294418],\n",
              "       [-0.99259516, -0.38396008],\n",
              "       [ 0.96360834,  0.25867009],\n",
              "       [ 0.16197209, -1.0547533 ],\n",
              "       [ 0.02686011, -0.05105981],\n",
              "       [ 0.21480781,  0.0370034 ],\n",
              "       [ 0.06577616,  0.08006728],\n",
              "       [-0.65681083, -0.80302331],\n",
              "       [ 0.11078744, -0.04847024],\n",
              "       [ 0.77880166,  0.0164356 ],\n",
              "       [ 0.86111651,  0.64386192],\n",
              "       [ 0.44479081,  0.85274485],\n",
              "       [ 0.083138  ,  0.04600221],\n",
              "       [ 0.04411016, -0.17235189],\n",
              "       [-0.14606325, -0.97957913],\n",
              "       [-0.82160046,  0.54668446],\n",
              "       [ 1.01560646, -0.58782971],\n",
              "       [ 0.0220255 , -0.11131092],\n",
              "       [ 0.18816839,  0.04138868],\n",
              "       [ 0.0275151 ,  0.02816342],\n",
              "       [ 0.2317767 ,  0.77843255],\n",
              "       [-0.07062017,  0.02233875],\n",
              "       [-0.10729862,  1.0410088 ],\n",
              "       [-0.9172605 , -0.05384569],\n",
              "       [-0.21487893,  0.16836792],\n",
              "       [-0.19298103, -0.04216093],\n",
              "       [-0.1305467 , -0.07620087],\n",
              "       [ 0.81242578, -0.57440927],\n",
              "       [-0.07088386,  0.1316489 ],\n",
              "       [-1.10205261,  0.41668415],\n",
              "       [-0.87591356,  0.66439394],\n",
              "       [ 0.30006928, -0.87474015],\n",
              "       [-0.32497118,  1.04396994],\n",
              "       [ 0.78803841,  0.83928497]])"
            ]
          },
          "metadata": {},
          "execution_count": 6
        }
      ]
    },
    {
      "cell_type": "code",
      "source": [
        "X_train.ravel()"
      ],
      "metadata": {
        "id": "xUzOhOa5yXnG",
        "colab": {
          "base_uri": "https://localhost:8080/"
        },
        "outputId": "3342ceb6-bca3-4f7e-bdd0-04d0bfd96d87"
      },
      "execution_count": 7,
      "outputs": [
        {
          "output_type": "execute_result",
          "data": {
            "text/plain": [
              "array([-0.00233256,  0.01731879, -1.11076484,  0.03601274,  0.86359971,\n",
              "        0.2541198 ,  0.18584452, -1.05036954, -0.3881337 , -0.97949582,\n",
              "       -0.09185963,  0.09222533,  0.04922565, -0.14722815,  0.15556091,\n",
              "        0.07585083, -0.16028011,  0.13408122, -0.21818644, -0.30988106,\n",
              "       -0.14806982, -0.00250957,  0.76826314, -0.56299225, -0.60623464,\n",
              "       -0.76353742,  0.03055935, -0.0386951 , -0.07481147, -0.06490152,\n",
              "       -0.03358361,  0.16982704, -0.18683471, -0.05686208, -0.01376956,\n",
              "        0.04411626, -0.00307899,  0.07904353,  0.62571637, -0.80216606,\n",
              "        0.85319088, -0.58405815,  0.02561022, -0.0239522 ,  0.12011594,\n",
              "        0.10616335,  0.09624367, -0.09792631,  0.39588008,  0.99731675,\n",
              "       -0.85665297, -0.30225405,  0.76023584,  0.45949445,  0.21223701,\n",
              "        0.96914978, -0.01811231, -0.09564707,  0.03991395,  0.03541059,\n",
              "        0.00492576, -0.07862071,  0.93150962, -0.30080251,  0.53572186,\n",
              "        0.67904634, -0.15408306,  0.02403824, -0.66558512, -0.66490187,\n",
              "        0.07905685, -0.02277477, -0.13048897, -0.01000565, -0.36638691,\n",
              "       -0.9443016 , -0.87899741, -0.40942318, -0.78946067,  0.5483597 ,\n",
              "       -0.98984733,  0.19390452, -0.28061278, -1.10576187, -0.15177555,\n",
              "        0.06323576, -0.15508188,  1.05434065, -0.10714403,  0.99171152,\n",
              "        0.4686977 , -0.94842398,  0.78771721, -0.00294418, -0.99259516,\n",
              "       -0.38396008,  0.96360834,  0.25867009,  0.16197209, -1.0547533 ,\n",
              "        0.02686011, -0.05105981,  0.21480781,  0.0370034 ,  0.06577616,\n",
              "        0.08006728, -0.65681083, -0.80302331,  0.11078744, -0.04847024,\n",
              "        0.77880166,  0.0164356 ,  0.86111651,  0.64386192,  0.44479081,\n",
              "        0.85274485,  0.083138  ,  0.04600221,  0.04411016, -0.17235189,\n",
              "       -0.14606325, -0.97957913, -0.82160046,  0.54668446,  1.01560646,\n",
              "       -0.58782971,  0.0220255 , -0.11131092,  0.18816839,  0.04138868,\n",
              "        0.0275151 ,  0.02816342,  0.2317767 ,  0.77843255, -0.07062017,\n",
              "        0.02233875, -0.10729862,  1.0410088 , -0.9172605 , -0.05384569,\n",
              "       -0.21487893,  0.16836792, -0.19298103, -0.04216093, -0.1305467 ,\n",
              "       -0.07620087,  0.81242578, -0.57440927, -0.07088386,  0.1316489 ,\n",
              "       -1.10205261,  0.41668415, -0.87591356,  0.66439394,  0.30006928,\n",
              "       -0.87474015, -0.32497118,  1.04396994,  0.78803841,  0.83928497])"
            ]
          },
          "metadata": {},
          "execution_count": 7
        }
      ]
    },
    {
      "cell_type": "code",
      "source": [
        "classifier = SVC(kernel=\"rbf\")\n",
        "classifier.fit(X_train, y_train.ravel())\n",
        "y_pred = classifier.predict(X_test)"
      ],
      "metadata": {
        "id": "7p5nM_lNvL-N"
      },
      "execution_count": 8,
      "outputs": []
    },
    {
      "cell_type": "code",
      "source": [
        "from sklearn.metrics import accuracy_score\n",
        "accuracy_score(y_test, y_pred)"
      ],
      "metadata": {
        "colab": {
          "base_uri": "https://localhost:8080/"
        },
        "id": "3y6rQVh4vPAI",
        "outputId": "4a1c3927-901c-45ce-8809-f6f3352e9a48"
      },
      "execution_count": 9,
      "outputs": [
        {
          "output_type": "execute_result",
          "data": {
            "text/plain": [
              "1.0"
            ]
          },
          "metadata": {},
          "execution_count": 9
        }
      ]
    },
    {
      "cell_type": "code",
      "source": [
        "a = np.arange(start = X_train[:,0].min()-1, stop =X_train[:,0].max()+1 , step = 0.01 )\n",
        "b =  np.arange(start = X_train[:,1].min()-1, stop =X_train[:,1].max()+1 , step = 0.01 )"
      ],
      "metadata": {
        "id": "bUm5F4q22oHZ"
      },
      "execution_count": 10,
      "outputs": []
    },
    {
      "cell_type": "code",
      "source": [
        "print(a.shape)\n",
        "print(b.shape)"
      ],
      "metadata": {
        "colab": {
          "base_uri": "https://localhost:8080/"
        },
        "id": "qXk8BxbR3wrZ",
        "outputId": "ac85018d-cb93-48ba-d917-a3f9aacf12b8"
      },
      "execution_count": 11,
      "outputs": [
        {
          "output_type": "stream",
          "name": "stdout",
          "text": [
            "(413,)\n",
            "(417,)\n"
          ]
        }
      ]
    },
    {
      "cell_type": "code",
      "source": [
        "xx , yy = np.meshgrid(a,b )"
      ],
      "metadata": {
        "id": "2dJ2M_6Z37D9"
      },
      "execution_count": 12,
      "outputs": []
    },
    {
      "cell_type": "code",
      "source": [
        "print(xx.shape)\n",
        "print(yy.shape)"
      ],
      "metadata": {
        "colab": {
          "base_uri": "https://localhost:8080/"
        },
        "id": "A2sZYyIT4DGo",
        "outputId": "d95189d1-1718-4648-e66d-a4ea8c21ca6d"
      },
      "execution_count": 13,
      "outputs": [
        {
          "output_type": "stream",
          "name": "stdout",
          "text": [
            "(417, 413)\n",
            "(417, 413)\n"
          ]
        }
      ]
    },
    {
      "cell_type": "code",
      "source": [
        "input_array = np.array([xx.ravel(), yy.ravel()]).T"
      ],
      "metadata": {
        "id": "s1PG3Mbn4Nnh"
      },
      "execution_count": 14,
      "outputs": []
    },
    {
      "cell_type": "code",
      "source": [
        "input_array.shape"
      ],
      "metadata": {
        "colab": {
          "base_uri": "https://localhost:8080/"
        },
        "id": "cpOccCuP4qSS",
        "outputId": "3ee6bfa3-82ca-42fe-b5ae-4fcf901b864e"
      },
      "execution_count": 15,
      "outputs": [
        {
          "output_type": "execute_result",
          "data": {
            "text/plain": [
              "(172221, 2)"
            ]
          },
          "metadata": {},
          "execution_count": 15
        }
      ]
    },
    {
      "cell_type": "code",
      "source": [
        "labels = classifier.predict(input_array)"
      ],
      "metadata": {
        "id": "b9u6edYy5POm"
      },
      "execution_count": 16,
      "outputs": []
    },
    {
      "cell_type": "code",
      "source": [
        "labels.shape"
      ],
      "metadata": {
        "colab": {
          "base_uri": "https://localhost:8080/"
        },
        "id": "WDeWrifm7MW4",
        "outputId": "372fc848-804d-48b2-fa30-187f353fb3b5"
      },
      "execution_count": 17,
      "outputs": [
        {
          "output_type": "execute_result",
          "data": {
            "text/plain": [
              "(172221,)"
            ]
          },
          "metadata": {},
          "execution_count": 17
        }
      ]
    },
    {
      "cell_type": "code",
      "source": [
        "plt.contourf(xx , yy , labels.reshape(xx.shape), alpha = 0.75)\n",
        "plt.xlim(a.min(), a.max())\n",
        "plt.ylim(b.min(), b.max())\n",
        "plt.scatter(X_train[:,0],X_train[:,1],c=y_train)\n",
        "plt.title('SVM Decision Boundary')\n",
        "plt.xlabel('X1')\n",
        "plt.ylabel('X2')\n",
        "plt.legend()\n",
        "plt.show()"
      ],
      "metadata": {
        "colab": {
          "base_uri": "https://localhost:8080/",
          "height": 509
        },
        "id": "dfi5xraw7PzH",
        "outputId": "f70dcce4-fb15-4a6d-a763-4be429dd57fa"
      },
      "execution_count": 18,
      "outputs": [
        {
          "output_type": "stream",
          "name": "stderr",
          "text": [
            "WARNING:matplotlib.legend:No artists with labels found to put in legend.  Note that artists whose label start with an underscore are ignored when legend() is called with no argument.\n"
          ]
        },
        {
          "output_type": "display_data",
          "data": {
            "text/plain": [
              "<Figure size 640x480 with 1 Axes>"
            ],
            "image/png": "[encoded data removed]"
          },
          "metadata": {}
        }
      ]
    }
  ]
}